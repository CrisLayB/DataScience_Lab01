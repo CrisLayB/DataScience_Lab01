{
 "cells": [
  {
   "attachments": {},
   "cell_type": "markdown",
   "metadata": {},
   "source": [
    "Universidad del Valle de Guatemala\n",
    "\n",
    "Facultad de Ingeniería\n",
    "\n",
    "Departamento de Ciencias de la Computación\n",
    "\n",
    "Data Science - Sección 10\n",
    "\n",
    "Grupo 2"
   ]
  },
  {
   "cell_type": "code",
   "execution_count": null,
   "metadata": {},
   "outputs": [],
   "source": []
  }
 ],
 "metadata": {
  "language_info": {
   "name": "python"
  },
  "orig_nbformat": 4
 },
 "nbformat": 4,
 "nbformat_minor": 2
}
